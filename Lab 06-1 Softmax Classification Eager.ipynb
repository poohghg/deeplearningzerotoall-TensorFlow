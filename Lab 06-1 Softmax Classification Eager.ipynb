{
 "cells": [
  {
   "cell_type": "code",
   "execution_count": 2,
   "metadata": {},
   "outputs": [],
   "source": [
    "import tensorflow as tf\n",
    "import numpy as np\n",
    "tf.enable_eager_execution()\n",
    "tf.set_random_seed(777)  # for reproducibility\n",
    "tfe = tf.contrib.eager"
   ]
  },
  {
   "cell_type": "code",
   "execution_count": 3,
   "metadata": {},
   "outputs": [],
   "source": [
    "x_data = [[1, 2, 1, 1],\n",
    "          [2, 1, 3, 2],\n",
    "          [3, 1, 3, 4],\n",
    "          [4, 1, 5, 5],\n",
    "          [1, 7, 5, 5],\n",
    "          [1, 2, 5, 6],\n",
    "          [1, 6, 6, 6],\n",
    "          [1, 7, 7, 7]]\n",
    "y_data = [[0, 0, 1],\n",
    "          [0, 0, 1],\n",
    "          [0, 0, 1],\n",
    "          [0, 1, 0],\n",
    "          [0, 1, 0],\n",
    "          [0, 1, 0],\n",
    "          [1, 0, 0],\n",
    "          [1, 0, 0]]\n",
    "\n",
    "#convert into numpy and float format\n",
    "x_data = np.asarray(x_data, dtype=np.float32)\n",
    "y_data = np.asarray(y_data, dtype=np.float32)"
   ]
  },
  {
   "cell_type": "code",
   "execution_count": 4,
   "metadata": {},
   "outputs": [
    {
     "name": "stdout",
     "output_type": "stream",
     "text": [
      "(8, 4)\n",
      "(8, 3)\n"
     ]
    }
   ],
   "source": [
    "#dataset을 선언합니다.\n",
    "# dataset = tf.data.Dataset.from_tensor_slices((x_data, y_data))\n",
    "# dataset = dataset.repeat().batch(2)\n",
    "# 분류 클래스는 3개이다.\n",
    "nb_classes = 3 #class의 개수입니다.\n",
    "\n",
    "print(x_data.shape)\n",
    "print(y_data.shape)"
   ]
  },
  {
   "cell_type": "code",
   "execution_count": 10,
   "metadata": {},
   "outputs": [
    {
     "name": "stdout",
     "output_type": "stream",
     "text": [
      "[<tf.Variable 'weight:0' shape=(4, 3) dtype=float32, numpy=\n",
      "array([[-1.2832785 , -0.57372373,  0.8555362 ],\n",
      "       [ 0.36409333, -1.008571  , -1.1627557 ],\n",
      "       [ 1.7711345 , -0.5514343 , -0.11697779],\n",
      "       [ 0.9940506 ,  1.0928452 ,  1.4065602 ]], dtype=float32)>, <tf.Variable 'bias:0' shape=(3,) dtype=float32, numpy=array([ 0.00882025, -0.35115844,  0.43264598], dtype=float32)>]\n"
     ]
    }
   ],
   "source": [
    "# W and bias 셋팅\n",
    "W = tfe.Variable(tf.random_normal([4,nb_classes]),name=\"weight\")\n",
    "b = tfe.Variable(tf.random_normal([nb_classes]),name=\"bias\")\n",
    "variables =[W,b]\n",
    "print(variables)"
   ]
  },
  {
   "cell_type": "code",
   "execution_count": 17,
   "metadata": {},
   "outputs": [
    {
     "data": {
      "text/plain": [
       "<tf.Tensor: id=176, shape=(8, 3), dtype=float32, numpy=\n",
       "array([[8.6973101e-01, 8.5733375e-03, 1.2169565e-01],\n",
       "       [8.4027678e-01, 7.0474501e-04, 1.5901843e-01],\n",
       "       [2.1421744e-01, 4.4507373e-04, 7.8533745e-01],\n",
       "       [4.8144323e-01, 2.1568792e-05, 5.1853526e-01],\n",
       "       [9.9999976e-01, 1.4124401e-09, 1.8492453e-07],\n",
       "       [9.9942112e-01, 1.4904854e-06, 5.7730428e-04],\n",
       "       [9.9999976e-01, 6.0302907e-10, 1.9464851e-07],\n",
       "       [1.0000000e+00, 1.6535809e-11, 9.6672759e-09]], dtype=float32)>"
      ]
     },
     "execution_count": 17,
     "metadata": {},
     "output_type": "execute_result"
    }
   ],
   "source": [
    "# tf.nn.softmax computes softmax activations\n",
    "# softmax = exp(logits) / reduce_sum(exp(logits), dim)\n",
    "# 기존가설을 중 매트리스 연산으로 인해 XW+b값을 취함 또한 소프트맥스 함수 적용을 통해 확률값으로 변환하여 가설을 설정\n",
    "def hypothsis(X):\n",
    "    return tf.nn.softmax(tf.matmul(X,W)+b)\n",
    "hypothsis(x_data)\n",
    "# 소프트맥스를 통해나온 각로우의 합은 1이다."
   ]
  },
  {
   "cell_type": "code",
   "execution_count": 19,
   "metadata": {},
   "outputs": [
    {
     "name": "stdout",
     "output_type": "stream",
     "text": [
      "tf.Tensor([[6.5242233e-07 1.2419434e-06 9.9999809e-01]], shape=(1, 3), dtype=float32)\n"
     ]
    }
   ],
   "source": [
    "# softmax onehot enocoding test\n",
    "sample_db = [[8,2,1,4]]\n",
    "sample_db = np.asarray(sample_db, dtype=np.float32)\n",
    "\n",
    "print(hypothsis(sample_db))"
   ]
  },
  {
   "cell_type": "code",
   "execution_count": 26,
   "metadata": {},
   "outputs": [],
   "source": [
    "# 비용함수\n",
    "def cost_fn(X,Y):\n",
    "    logits = hypothsis(X)\n",
    "    cost = -tf.reduce_sum(Y * tf.log(logits), axis=1) # axis = 열계산\n",
    "    cost_mean = tf.reduce_mean(cost)\n",
    "    \n",
    "    return cost_mean"
   ]
  },
  {
   "cell_type": "code",
   "execution_count": 24,
   "metadata": {},
   "outputs": [
    {
     "name": "stdout",
     "output_type": "stream",
     "text": [
      "tf.Tensor(6.0, shape=(), dtype=float32)\n"
     ]
    }
   ],
   "source": [
    "x = tf.constant(3.0)\n",
    "with tf.GradientTape() as g:\n",
    "    g.watch(x)\n",
    "    y = x * x # x^2\n",
    "dy_dx = g.gradient(y, x) # Will compute to 6.0\n",
    "print(dy_dx)"
   ]
  },
  {
   "cell_type": "code",
   "execution_count": 27,
   "metadata": {},
   "outputs": [
    {
     "name": "stdout",
     "output_type": "stream",
     "text": [
      "[<tf.Tensor: id=263, shape=(4, 3), dtype=float32, numpy=\n",
      "array([[ 0.88976634, -0.74857426, -0.14119205],\n",
      "       [ 1.5342798 , -1.2477098 , -0.28657004],\n",
      "       [ 2.0546916 , -1.8734827 , -0.181209  ],\n",
      "       [ 2.1013618 , -1.998515  , -0.10284694]], dtype=float32)>, <tf.Tensor: id=261, shape=(3,), dtype=float32, numpy=array([ 0.5506362 , -0.3737817 , -0.17685443], dtype=float32)>]\n"
     ]
    }
   ],
   "source": [
    "# 경사하강법을 통해 파라메터를 최적화시킨다.\n",
    "def grad_fn(X, Y):\n",
    "    with tf.GradientTape() as tape:\n",
    "        loss = cost_fn(X, Y)\n",
    "        grads = tape.gradient(loss, variables)\n",
    "\n",
    "        return grads\n",
    "\n",
    "print(grad_fn(x_data, y_data))"
   ]
  },
  {
   "cell_type": "code",
   "execution_count": 31,
   "metadata": {},
   "outputs": [
    {
     "name": "stdout",
     "output_type": "stream",
     "text": [
      "Loss at epoch 1: 0.061880\n",
      "Loss at epoch 100: 0.060990\n",
      "Loss at epoch 200: 0.060115\n",
      "Loss at epoch 300: 0.059265\n",
      "Loss at epoch 400: 0.058438\n",
      "Loss at epoch 500: 0.057634\n",
      "Loss at epoch 600: 0.056852\n",
      "Loss at epoch 700: 0.056090\n",
      "Loss at epoch 800: 0.055348\n",
      "Loss at epoch 900: 0.054625\n",
      "Loss at epoch 1000: 0.053920\n",
      "Loss at epoch 1100: 0.053233\n",
      "Loss at epoch 1200: 0.052563\n",
      "Loss at epoch 1300: 0.051910\n",
      "Loss at epoch 1400: 0.051273\n",
      "Loss at epoch 1500: 0.050651\n",
      "Loss at epoch 1600: 0.050043\n",
      "Loss at epoch 1700: 0.049450\n",
      "Loss at epoch 1800: 0.048871\n",
      "Loss at epoch 1900: 0.048304\n",
      "Loss at epoch 2000: 0.047751\n"
     ]
    }
   ],
   "source": [
    "# 경사하강법을통해 W,b값을 갱신\n",
    "# 2천번\n",
    "def fit(X, Y, epochs=2000, verbose=100):\n",
    "    optimizer =  tf.train.GradientDescentOptimizer(learning_rate=0.1)\n",
    "    for i in range(epochs):\n",
    "        grads = grad_fn(X, Y)\n",
    "        optimizer.apply_gradients(zip(grads, variables))\n",
    "        if (i==0) | ((i+1)%verbose==0):\n",
    "            print('Loss at epoch %d: %f' %(i+1, cost_fn(X, Y).numpy()))\n",
    "            \n",
    "fit(x_data, y_data)"
   ]
  },
  {
   "cell_type": "code",
   "execution_count": 35,
   "metadata": {},
   "outputs": [
    {
     "name": "stdout",
     "output_type": "stream",
     "text": [
      "tf.Tensor([[3.2850954e-04 2.3863547e-02 9.7580791e-01]], shape=(1, 3), dtype=float32)\n",
      "tf.Tensor([2], shape=(1,), dtype=int64)\n"
     ]
    }
   ],
   "source": [
    "sample_data = [[2,1,3,2]] # answer_label [[0,0,1]]\n",
    "sample_data = np.asarray(sample_data, dtype=np.float32)\n",
    "\n",
    "a = hypothsis(sample_data)\n",
    "\n",
    "print(a)\n",
    "print(tf.argmax(a, 1)) #index: 2"
   ]
  },
  {
   "cell_type": "code",
   "execution_count": null,
   "metadata": {},
   "outputs": [],
   "source": []
  },
  {
   "cell_type": "code",
   "execution_count": null,
   "metadata": {},
   "outputs": [],
   "source": []
  }
 ],
 "metadata": {
  "kernelspec": {
   "display_name": "Python [conda env:gurrn] *",
   "language": "python",
   "name": "conda-env-gurrn-py"
  },
  "language_info": {
   "codemirror_mode": {
    "name": "ipython",
    "version": 3
   },
   "file_extension": ".py",
   "mimetype": "text/x-python",
   "name": "python",
   "nbconvert_exporter": "python",
   "pygments_lexer": "ipython3",
   "version": "3.6.8"
  }
 },
 "nbformat": 4,
 "nbformat_minor": 2
}
